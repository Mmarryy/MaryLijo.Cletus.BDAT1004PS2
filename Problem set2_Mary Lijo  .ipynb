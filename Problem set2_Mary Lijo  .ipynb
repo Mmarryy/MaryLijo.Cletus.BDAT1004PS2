{
 "cells": [
  {
   "cell_type": "markdown",
   "id": "0016a642",
   "metadata": {},
   "source": [
    "Question 1\n",
    "\n",
    "\n",
    "Here 'a' is defined as global variable.In the first, function call the value of 'a' will become 2 and then increases by 2 in every call.so after the 3 rd call it will become 6"
   ]
  },
  {
   "cell_type": "code",
   "execution_count": 1,
   "id": "547f23e0",
   "metadata": {},
   "outputs": [
    {
     "data": {
      "text/plain": [
       "6"
      ]
     },
     "execution_count": 1,
     "metadata": {},
     "output_type": "execute_result"
    }
   ],
   "source": [
    "\n",
    "a = 0\n",
    "def b():\n",
    " global a\n",
    " a = c(a)\n",
    "def c(a):\n",
    " return a + 2\n",
    "\n",
    "b()\n",
    "b()\n",
    "b()\n",
    "a"
   ]
  },
  {
   "cell_type": "markdown",
   "id": "11c1ec24",
   "metadata": {},
   "source": [
    "Question 2"
   ]
  },
  {
   "cell_type": "code",
   "execution_count": 3,
   "id": "89c31fd5",
   "metadata": {},
   "outputs": [
    {
     "name": "stdout",
     "output_type": "stream",
     "text": [
      "112\n",
      "File idterm.py not found!\n"
     ]
    }
   ],
   "source": [
    "def fileLength(filename):\n",
    "    try:\n",
    "        infile = open(filename)\n",
    "        items = infile.read()\n",
    "        infile.close()\n",
    "        print(len(items))\n",
    "    except:\n",
    "        print(\"File \"+filename+\" not found!\")\n",
    "fileLength(\"midterm.py\")\n",
    "fileLength(\"idterm.py\")"
   ]
  },
  {
   "cell_type": "markdown",
   "id": "7fe6c50b",
   "metadata": {},
   "source": [
    "Question 3"
   ]
  },
  {
   "cell_type": "code",
   "execution_count": 3,
   "id": "ac7c7fa7",
   "metadata": {},
   "outputs": [
    {
     "name": "stdout",
     "output_type": "stream",
     "text": [
      "I am a Kangaroo located at coordinates ( 0,0)\n",
      "['doll', 'firetruck', 'kitten']\n",
      "I am a Kangaroo located at coordinates ( 3,0)\n"
     ]
    }
   ],
   "source": [
    "class Marsupial:                 #parent class named Marsupial \n",
    "    \n",
    "    def __init__(self,x,y):       #defining constructor to take input x and y variables of parent class\n",
    "        self.pouch=[]                   \n",
    "             \n",
    "    def put_in_pouch(self,items):   # appending items to the empty self.pouch() list\n",
    "        self.pouch.append(items)\n",
    "        \n",
    "    def pouch_contents(self):           \n",
    "        return self.pouch\n",
    "\n",
    "class Kangaroo(Marsupial):         #creating sub-class Kangaroo \n",
    "    def __init__(self,x,y):              \n",
    "        super().__init__(x,y)     #extending Marsupial constructor to take coordinates x and y both \n",
    "        self.dx = 0                      \n",
    "        self.dy = 0                        \n",
    "    \n",
    "    def jump(self,x,y):                 \n",
    "        self.dx = self.dx + x    #defining jump function to jump the coordinates of Kangaroo as per input \n",
    "        self.dy = self.dy + y\n",
    "    \n",
    "    def __str__(self):          #overload the _str_ operator \n",
    "        \n",
    "        return ('I am a Kangaroo located at coordinates ( {},{})'.format(self.dx,self.dy))\n",
    "\n",
    "k = Kangaroo(0,0)\n",
    "print(k)\n",
    "k.put_in_pouch('doll')\n",
    "k.put_in_pouch('firetruck')\n",
    "k.put_in_pouch('kitten')\n",
    "k.pouch_contents()\n",
    "print(k.pouch)  \n",
    "k.jump(1,0)\n",
    "k.jump(1,0)\n",
    "k.jump(1,0)\n",
    "print(k)\n",
    "\n"
   ]
  },
  {
   "cell_type": "markdown",
   "id": "42332236",
   "metadata": {},
   "source": [
    "Question4"
   ]
  },
  {
   "cell_type": "code",
   "execution_count": 11,
   "id": "b82d1209",
   "metadata": {},
   "outputs": [
    {
     "name": "stdout",
     "output_type": "stream",
     "text": [
      "1\n",
      "10\n",
      "5\n",
      "16\n",
      "8\n",
      "4\n",
      "2\n",
      "1\n"
     ]
    }
   ],
   "source": [
    "def collatz (x):\n",
    "    if(x != 1):\n",
    "        print(x ,end ='\\n')\n",
    "    if(x == 1):\n",
    "        print(x ,end ='\\n')\n",
    "        return x\n",
    "    if(x%2 == 0):\n",
    "        x = x // 2\n",
    "        collatz(x)\n",
    "    else:\n",
    "        x= 3*x + 1\n",
    "        collatz(x)\n",
    "\n",
    "\n",
    "collatz(1)\n",
    "collatz(10)"
   ]
  },
  {
   "cell_type": "markdown",
   "id": "8e6fbbc7",
   "metadata": {},
   "source": [
    "Question 5"
   ]
  },
  {
   "cell_type": "code",
   "execution_count": 18,
   "id": "0c411c66",
   "metadata": {},
   "outputs": [
    {
     "name": "stdout",
     "output_type": "stream",
     "text": [
      "0\n",
      "1\n",
      "11\n",
      "1001\n"
     ]
    }
   ],
   "source": [
    "binary_number =\"\"\n",
    "def binary (n):\n",
    "    global binary_number\n",
    "    if(n!=1): # if given number not equal to 1\n",
    "        if(n==0):\n",
    "            print(\"0\")\n",
    "        else:\n",
    "            x=\"\"\n",
    "            remainder = int(n%2)\n",
    "            x =str(remainder)\n",
    "            binary_number+=x\n",
    "            n =int(n/2)\n",
    "            binary(n)\n",
    "    else:\n",
    "        binary_number +=\"1\"\n",
    "        binary_number = binary_number [::-1] \n",
    "        print(binary_number)\n",
    "        binary_number=\"\"\n",
    "        \n",
    "binary(0)\n",
    "binary(1)\n",
    "binary(3)\n",
    "binary(9)"
   ]
  },
  {
   "cell_type": "markdown",
   "id": "f52edd8b",
   "metadata": {},
   "source": [
    "Question 6"
   ]
  },
  {
   "cell_type": "code",
   "execution_count": 33,
   "id": "d59f6cfb",
   "metadata": {},
   "outputs": [
    {
     "name": "stdout",
     "output_type": "stream",
     "text": [
      "W3C Mission\n",
      "\tPrinciples\n"
     ]
    }
   ],
   "source": [
    "\n",
    "from html.parser import HTMLParser\n",
    "x1='False'\n",
    "x2='False'\n",
    "class HeadingParser(HTMLParser):  \n",
    "    def handle_starttag(self, tag, attrs):\n",
    "        if tag == 'h1':\n",
    "            global x1\n",
    "            x1 = \"True\"\n",
    "        if tag == 'h2':\n",
    "            global x2\n",
    "            x2 = \"True\"  \n",
    "    def handle_endtag(self, tag):\n",
    "        if x1 == \"False\":\n",
    "            pass\n",
    "        if x2 == \"False\":\n",
    "            pass\n",
    "    def handle_data(self, data):\n",
    "        global x1,x2\n",
    "        if x1 == \"True\": \n",
    "            print(data)\n",
    "            x1='False'    \n",
    "        if x2 == \"True\":        \n",
    "            print('\\t',end='')\n",
    "            print(data)\n",
    "            x2 = 'False'\n",
    "infile = open('w3c.html') \n",
    "content = infile.read() \n",
    "infile.close() \n",
    "hp = HeadingParser() \n",
    "hp.feed(content) "
   ]
  },
  {
   "cell_type": "markdown",
   "id": "4dce37a4",
   "metadata": {},
   "source": [
    "Question7"
   ]
  },
  {
   "cell_type": "code",
   "execution_count": 32,
   "id": "c66da9fa",
   "metadata": {},
   "outputs": [
    {
     "name": "stdout",
     "output_type": "stream",
     "text": [
      "http://reed.cs.depaul.edu/lperkovic/test1.html\n",
      " http://reed.cs.depaul.edu/lperkovic/test2.html\n",
      "  http://reed.cs.depaul.edu/lperkovic/test4.html\n",
      " http://reed.cs.depaul.edu/lperkovic/test3.html\n",
      "  http://reed.cs.depaul.edu/lperkovic/test4.html\n"
     ]
    }
   ],
   "source": [
    "from urllib.request import urlopen\n",
    "from urllib.parse import urljoin\n",
    "from html.parser import HTMLParser\n",
    "\n",
    "class MainFunction(HTMLParser):\n",
    "\n",
    "    def __init__(self, giv_URL):\n",
    "\n",
    "        HTMLParser.__init__(self)\n",
    "        self.givenURL = giv_URL\n",
    "        self.availableLinks = []\n",
    "        \n",
    "    def catchLinks(self):\n",
    "        return self.availableLinks\n",
    "\n",
    "    def handle_starttag(self, tag, attrs):\n",
    "        if tag == 'a':\n",
    "            for attr in attrs:          \n",
    "                if attr[0] == 'href': \n",
    "                    absolute = urljoin(self.givenURL, attr[1])\n",
    "                    if absolute[:4] == 'http':\n",
    "                        self.availableLinks.append(absolute)\n",
    "\n",
    "\n",
    "all_Links = []\n",
    "def webdir(giv_URL,depth,index):\n",
    "    global all_Links\n",
    "    res = urlopen(giv_URL)\n",
    "    cont = res.read().decode()\n",
    "    c =MainFunction(giv_URL)\n",
    "    c.feed(cont)\n",
    "    all_Links = c.catchLinks()\n",
    "    print(index*\" \" + giv_URL)\n",
    "    if depth == 0:\n",
    "         return \n",
    "    for i in all_Links: \n",
    "        webdir(i, depth-1, index+1)    \n",
    "\n",
    "\n",
    "webdir('http://reed.cs.depaul.edu/lperkovic/test1.html',2,0)"
   ]
  },
  {
   "cell_type": "markdown",
   "id": "46ee300d",
   "metadata": {},
   "source": [
    "Question  8\n"
   ]
  },
  {
   "cell_type": "code",
   "execution_count": 33,
   "id": "5a0bb26d",
   "metadata": {},
   "outputs": [
    {
     "name": "stdout",
     "output_type": "stream",
     "text": [
      "(24.8,)(28.4,)(27.9,)(27.6,)(4.2,)(8.3,)(15.7,)(10.4,)(13.6,)(20.7,)(27.7,)(22.2,)\n",
      "('Mumbai',)('London',)('Cairo',)\n",
      "('Mumbai', 'India', 'Winter', 24.8, 5.9)('Mumbai', 'India', 'Spring', 28.4, 16.2)('Mumbai', 'India', 'Summer', 27.9, 1549.4)('Mumbai', 'India', 'Fall', 27.6, 346)\n",
      "('Mumbai', 'India', 'Fall', 27.6, 346)('London', 'United Kingdom', 'Fall', 10.4, 218.5)('Cairo', 'Egypt', 'Fall', 22.2, 4.5)\n",
      "('Mumbai', 'India', 'Fall')('London', 'United Kingdom', 'Winter')('London', 'United Kingdom', 'Fall')\n",
      "('Cairo', 'Egypt')('Mumbai', 'India')\n",
      "(27.6,)\n",
      "('Fall', 569.0)('Spring', 192.29999999999998)('Summer', 1706.5)('Winter', 230.1)"
     ]
    }
   ],
   "source": [
    "import sqlite3\n",
    "conn = sqlite3.connect('trial.db')\n",
    "conn.execute('''\n",
    "CREATE TABLE IF NOT EXISTS seasonal_data(city text, \n",
    "                      country text, \n",
    "                      season integer, \n",
    "                      temperature integer,\n",
    "                      rainfall integer);''')\n",
    "conn.commit()\n",
    "my_cur = conn.cursor()\n",
    "conn.execute(\"INSERT INTO seasonal_data VALUES('Mumbai', 'India', 'Winter', 24.8, 5.9);\")\n",
    "conn.execute(\"INSERT INTO seasonal_data VALUES('Mumbai', 'India', 'Spring', 28.4, 16.2);\")\n",
    "conn.execute(\"INSERT INTO seasonal_data VALUES('Mumbai', 'India', 'Summer', 27.9, 1549.4);\")\n",
    "conn.execute(\"INSERT INTO seasonal_data VALUES('Mumbai', 'India', 'Fall', 27.6, 346.0);\")\n",
    "conn.execute(\"INSERT INTO seasonal_data VALUES('London', 'United Kingdom', 'Winter', 4.2, 207.7);\")\n",
    "conn.execute(\"INSERT INTO seasonal_data VALUES('London', 'United Kingdom', 'Spring', 8.3, 169.6 );\")\n",
    "conn.execute(\"INSERT INTO seasonal_data VALUES('London', 'United Kingdom', 'Summer', 15.7, 157.0);\")\n",
    "conn.execute(\"INSERT INTO seasonal_data VALUES('London', 'United Kingdom', 'Fall', 10.4, 218.5);\")\n",
    "conn.execute(\"INSERT INTO seasonal_data VALUES('Cairo', 'Egypt', 'Winter', 13.6, 16.5);\")\n",
    "conn.execute(\"INSERT INTO seasonal_data VALUES('Cairo', 'Egypt', 'Spring', 20.7, 6.5);\")\n",
    "conn.execute(\"INSERT INTO seasonal_data VALUES('Cairo', 'Egypt', 'Summer', 27.7, 0.1);\")\n",
    "conn.execute(\"INSERT INTO seasonal_data VALUES('Cairo', 'Egypt', 'Fall', 22.2, 4.5);\")\n",
    "\n",
    "my_cur.execute(\"SELECT temperature from seasonal_data\")\n",
    "my_result =my_cur.fetchall()             #part a\n",
    "for x in my_result:\n",
    "  print(x, end=\"\")\n",
    "\n",
    "print()\n",
    "my_cur.execute(\"SELECT DISTINCT(city) from seasonal_data\")\n",
    "my_result = my_cur.fetchall()\n",
    "for x in my_result:                          #part b\n",
    "  print(x, end=\"\")\n",
    "\n",
    "print()\n",
    "my_cur.execute(\"SELECT * from seasonal_data where country = 'India'\")\n",
    "my_result = my_cur.fetchall()\n",
    "for x in my_result:                             #part c\n",
    "  print(x, end=\"\")\n",
    "\n",
    "print()\n",
    "my_cur.execute(\"SELECT * from seasonal_data where season = 'Fall'\")\n",
    "my_result = my_cur.fetchall()\n",
    "for x in my_result:                             #part d\n",
    "  print(x, end=\"\")\n",
    "\n",
    "print()\n",
    "my_cur.execute(\"SELECT city,country,season from seasonal_data where rainfall BETWEEN 200 and 400\")\n",
    "my_result = my_cur.fetchall()\n",
    "for x in my_result:                                 #part e\n",
    "  print(x, end=\"\")\n",
    "\n",
    "print()\n",
    "my_cur.execute(\"SELECT city,country from seasonal_data where (season = 'Fall' and temperature > 20) Order BY temperature ASC \")\n",
    "my_result = my_cur.fetchall()\n",
    "for x in my_result:                                #part f\n",
    "  print(x, end=\"\")\n",
    "\n",
    "print()\n",
    "my_cur.execute(\"SELECT sum(rainfall) from seasonal_data where city = 'Cairo'\")\n",
    "my_result = my_cur.fetchall()\n",
    "for x in my_result:\n",
    "  print(x, end=\"\")                                      #part g\n",
    "\n",
    "print()\n",
    "my_cur.execute(\"SELECT season, sum(rainfall) from seasonal_data group by season\")\n",
    "my_result = my_cur.fetchall()\n",
    "for x in my_result:                                   #part h\n",
    "  print(x, end=\"\")\n",
    "\n",
    "conn.close()\n"
   ]
  },
  {
   "cell_type": "markdown",
   "id": "d2531b13",
   "metadata": {},
   "source": [
    "Question 9"
   ]
  },
  {
   "cell_type": "code",
   "execution_count": 21,
   "id": "0c0b4050",
   "metadata": {},
   "outputs": [
    {
     "name": "stdout",
     "output_type": "stream",
     "text": [
      "['THE', 'QUICK', 'BROWN', 'FOX', 'JUMPS', 'OVER', 'THE', 'LAZY', 'DOG']\n",
      "['the', 'quick', 'brown', 'fox', 'jumps', 'over', 'the', 'lazy', 'dog']\n",
      "[3, 5, 5, 3, 5, 4, 3, 4, 3]\n",
      "[['THE', 'the', 3], ['QUICK', 'quick', 5], ['BROWN', 'brown', 5], ['FOX', 'fox', 3], ['JUMPS', 'jumps', 5], ['OVER', 'over', 4], ['THE', 'the', 3], ['LAZY', 'lazy', 4], ['DOG', 'dog', 3]]\n",
      "['The', 'quick', 'brown', 'fox', 'jumps', 'over', 'the', 'lazy', 'dog']\n"
     ]
    }
   ],
   "source": [
    "words = ['The', 'quick', 'brown', 'fox', 'jumps', 'over', 'the', 'lazy', 'dog']\n",
    "print([x.upper() for x in words])\n",
    "print([x.lower() for x in words])\n",
    "print([len(x) for x in words])\n",
    "print([[x.upper(), x.lower(), len(x)]for x in words])\n",
    "print([x for x in words if len(x) >= 3])"
   ]
  }
 ],
 "metadata": {
  "kernelspec": {
   "display_name": "Python 3 (ipykernel)",
   "language": "python",
   "name": "python3"
  },
  "language_info": {
   "codemirror_mode": {
    "name": "ipython",
    "version": 3
   },
   "file_extension": ".py",
   "mimetype": "text/x-python",
   "name": "python",
   "nbconvert_exporter": "python",
   "pygments_lexer": "ipython3",
   "version": "3.9.12"
  }
 },
 "nbformat": 4,
 "nbformat_minor": 5
}
